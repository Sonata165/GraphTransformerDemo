{
 "cells": [
  {
   "cell_type": "markdown",
   "source": [
    "# Code and log of trainning Graph Transformer"
   ],
   "metadata": {
    "collapsed": false,
    "pycharm": {
     "name": "#%% md\n"
    }
   }
  },
  {
   "cell_type": "code",
   "execution_count": 2,
   "metadata": {
    "collapsed": true,
    "pycharm": {
     "name": "#%%\n"
    }
   },
   "outputs": [],
   "source": [
    "import os\n",
    "import dgl\n",
    "import torch\n",
    "import torch.nn as nn\n",
    "import torch.optim as optim\n",
    "import random\n",
    "import warnings\n",
    "from dgl.data import AsGraphPredDataset\n",
    "from dgl.data.utils import Subset\n",
    "from dgl.dataloading import GraphDataLoader\n",
    "from tqdm import tqdm\n",
    "\n",
    "from models_gt import GTModelFeatDense\n",
    "\n",
    "random.seed(42)\n",
    "warnings.filterwarnings(\"ignore\", category=UserWarning)"
   ]
  },
  {
   "cell_type": "code",
   "execution_count": 3,
   "outputs": [],
   "source": [
    "# Define hyperparameters\n",
    "hparams = {\n",
    "    'lr': 0.00005,\n",
    "    'batch_size': 256,\n",
    "    'pos_enc_size': 8,\n",
    "}"
   ],
   "metadata": {
    "collapsed": false,
    "pycharm": {
     "name": "#%%\n"
    }
   }
  },
  {
   "cell_type": "code",
   "execution_count": 6,
   "outputs": [],
   "source": [
    "# Loop for evaluation and training\n",
    "\n",
    "def compute_acc(out, tgt):\n",
    "    '''\n",
    "    out and tgt are 1-d list with same length\n",
    "    '''\n",
    "    cor = 0\n",
    "    tot = 0\n",
    "    for i, j in zip(out, tgt):\n",
    "        tot += 1\n",
    "        if i == j:\n",
    "            cor += 1\n",
    "    return cor / tot\n",
    "\n",
    "\n",
    "@torch.no_grad()\n",
    "def evaluate(model, dataloader, device):\n",
    "    model.eval()\n",
    "\n",
    "    y_true = []\n",
    "    y_pred = []\n",
    "    for batched_g, labels in dataloader:\n",
    "        batched_g, labels = batched_g.to(device), labels.to(device)\n",
    "        y_hat = model(batched_g, batched_g.ndata[\"node_attr\"], batched_g.ndata[\"PE\"])\n",
    "        y_true.append(labels.view(y_hat.shape).detach().cpu())\n",
    "        y_pred.append(y_hat.detach().cpu())\n",
    "    y_true = torch.cat(y_true, dim=0).squeeze()\n",
    "    y_pred = torch.cat(y_pred, dim=0).squeeze()\n",
    "\n",
    "    loss_func = nn.BCEWithLogitsLoss()\n",
    "    loss = loss_func(y_pred, y_true.float())\n",
    "\n",
    "    # Compute output\n",
    "    prob = torch.sigmoid(y_pred)\n",
    "    out = prob.clone()\n",
    "    out[out >= 0.5] = 1\n",
    "    out[out < 0.5] = 0\n",
    "    out = out.long()\n",
    "    acc = compute_acc(out, y_true)\n",
    "\n",
    "    ret = {\n",
    "        'loss': loss.item(),\n",
    "        'acc': acc,\n",
    "    }\n",
    "\n",
    "    return ret\n",
    "\n",
    "\n",
    "def train(model, dataset, device):\n",
    "    train_dataloader = GraphDataLoader(\n",
    "        Subset(dataset, dataset.train_idx),\n",
    "        batch_size=hparams['batch_size'],\n",
    "        shuffle=True,\n",
    "    )\n",
    "    valid_dataloader = GraphDataLoader(\n",
    "        Subset(dataset, dataset.val_idx),\n",
    "        batch_size=hparams['batch_size'],\n",
    "    )\n",
    "    test_dataloader = GraphDataLoader(\n",
    "        Subset(dataset, dataset.test_idx),\n",
    "        batch_size=hparams['batch_size'],\n",
    "    )\n",
    "    optimizer = optim.Adam(model.parameters(), lr=hparams['lr'])\n",
    "    num_epochs = 20\n",
    "    loss_fcn = nn.BCEWithLogitsLoss()\n",
    "\n",
    "    for epoch in range(num_epochs):\n",
    "        model.train()\n",
    "        total_loss = 0.0\n",
    "        for batched_g, labels in tqdm(train_dataloader):\n",
    "            batched_g, labels = batched_g.to(device), labels.to(device)  # BS: 256\n",
    "            logits = model(\n",
    "                batched_g, batched_g.ndata[\"node_attr\"], batched_g.ndata[\"PE\"]  # batched_g.edata['feat'],\n",
    "            )\n",
    "            loss = loss_fcn(logits, labels.float())\n",
    "            total_loss += loss.item()\n",
    "            optimizer.zero_grad()\n",
    "            loss.backward()\n",
    "            optimizer.step()\n",
    "        avg_loss = total_loss / len(train_dataloader)\n",
    "        val_metric = evaluate(model, valid_dataloader, device)\n",
    "        print('Epoch: {:03d}, Loss: {:.4f}, Val loss: {:.4f}, Val acc: {:.4f}'.format(\n",
    "            epoch, avg_loss, val_metric['loss'], val_metric['acc']))\n",
    "    test_metric = evaluate(model, test_dataloader, device)\n",
    "    print('Testing performance: ', test_metric)"
   ],
   "metadata": {
    "collapsed": false,
    "pycharm": {
     "name": "#%%\n"
    }
   }
  },
  {
   "cell_type": "code",
   "execution_count": 7,
   "outputs": [
    {
     "name": "stderr",
     "output_type": "stream",
     "text": [
      "100%|████████████████████████████████████████████████████████████████████████████████████████████████████| 7/7 [00:01<00:00,  3.86it/s]\n"
     ]
    },
    {
     "name": "stdout",
     "output_type": "stream",
     "text": [
      "Epoch: 000, Loss: 0.4080, Val loss: 0.4855, Val acc: 0.9100\n"
     ]
    },
    {
     "name": "stderr",
     "output_type": "stream",
     "text": [
      "100%|████████████████████████████████████████████████████████████████████████████████████████████████████| 7/7 [00:01<00:00,  4.18it/s]\n"
     ]
    },
    {
     "name": "stdout",
     "output_type": "stream",
     "text": [
      "Epoch: 001, Loss: 0.3037, Val loss: 0.3805, Val acc: 0.9350\n"
     ]
    },
    {
     "name": "stderr",
     "output_type": "stream",
     "text": [
      "100%|████████████████████████████████████████████████████████████████████████████████████████████████████| 7/7 [00:01<00:00,  3.98it/s]\n"
     ]
    },
    {
     "name": "stdout",
     "output_type": "stream",
     "text": [
      "Epoch: 002, Loss: 0.2429, Val loss: 0.2760, Val acc: 0.9400\n"
     ]
    },
    {
     "name": "stderr",
     "output_type": "stream",
     "text": [
      "100%|████████████████████████████████████████████████████████████████████████████████████████████████████| 7/7 [00:01<00:00,  4.00it/s]\n"
     ]
    },
    {
     "name": "stdout",
     "output_type": "stream",
     "text": [
      "Epoch: 003, Loss: 0.2310, Val loss: 0.2356, Val acc: 0.9400\n"
     ]
    },
    {
     "name": "stderr",
     "output_type": "stream",
     "text": [
      "100%|████████████████████████████████████████████████████████████████████████████████████████████████████| 7/7 [00:01<00:00,  4.20it/s]\n"
     ]
    },
    {
     "name": "stdout",
     "output_type": "stream",
     "text": [
      "Epoch: 004, Loss: 0.1977, Val loss: 0.2133, Val acc: 0.9450\n"
     ]
    },
    {
     "name": "stderr",
     "output_type": "stream",
     "text": [
      "100%|████████████████████████████████████████████████████████████████████████████████████████████████████| 7/7 [00:01<00:00,  3.92it/s]\n"
     ]
    },
    {
     "name": "stdout",
     "output_type": "stream",
     "text": [
      "Epoch: 005, Loss: 0.1841, Val loss: 0.1924, Val acc: 0.9550\n"
     ]
    },
    {
     "name": "stderr",
     "output_type": "stream",
     "text": [
      "100%|████████████████████████████████████████████████████████████████████████████████████████████████████| 7/7 [00:01<00:00,  3.97it/s]\n"
     ]
    },
    {
     "name": "stdout",
     "output_type": "stream",
     "text": [
      "Epoch: 006, Loss: 0.1508, Val loss: 0.1740, Val acc: 0.9550\n"
     ]
    },
    {
     "name": "stderr",
     "output_type": "stream",
     "text": [
      "100%|████████████████████████████████████████████████████████████████████████████████████████████████████| 7/7 [00:01<00:00,  4.13it/s]\n"
     ]
    },
    {
     "name": "stdout",
     "output_type": "stream",
     "text": [
      "Epoch: 007, Loss: 0.1476, Val loss: 0.1598, Val acc: 0.9550\n"
     ]
    },
    {
     "name": "stderr",
     "output_type": "stream",
     "text": [
      "100%|████████████████████████████████████████████████████████████████████████████████████████████████████| 7/7 [00:01<00:00,  3.86it/s]\n"
     ]
    },
    {
     "name": "stdout",
     "output_type": "stream",
     "text": [
      "Epoch: 008, Loss: 0.1398, Val loss: 0.1462, Val acc: 0.9550\n"
     ]
    },
    {
     "name": "stderr",
     "output_type": "stream",
     "text": [
      "100%|████████████████████████████████████████████████████████████████████████████████████████████████████| 7/7 [00:01<00:00,  3.93it/s]\n"
     ]
    },
    {
     "name": "stdout",
     "output_type": "stream",
     "text": [
      "Epoch: 009, Loss: 0.1362, Val loss: 0.1352, Val acc: 0.9600\n"
     ]
    },
    {
     "name": "stderr",
     "output_type": "stream",
     "text": [
      "100%|████████████████████████████████████████████████████████████████████████████████████████████████████| 7/7 [00:01<00:00,  4.15it/s]\n"
     ]
    },
    {
     "name": "stdout",
     "output_type": "stream",
     "text": [
      "Epoch: 010, Loss: 0.1211, Val loss: 0.1272, Val acc: 0.9650\n"
     ]
    },
    {
     "name": "stderr",
     "output_type": "stream",
     "text": [
      "100%|████████████████████████████████████████████████████████████████████████████████████████████████████| 7/7 [00:01<00:00,  3.93it/s]\n"
     ]
    },
    {
     "name": "stdout",
     "output_type": "stream",
     "text": [
      "Epoch: 011, Loss: 0.1086, Val loss: 0.1172, Val acc: 0.9700\n"
     ]
    },
    {
     "name": "stderr",
     "output_type": "stream",
     "text": [
      "100%|████████████████████████████████████████████████████████████████████████████████████████████████████| 7/7 [00:01<00:00,  3.83it/s]\n"
     ]
    },
    {
     "name": "stdout",
     "output_type": "stream",
     "text": [
      "Epoch: 012, Loss: 0.1029, Val loss: 0.1117, Val acc: 0.9700\n"
     ]
    },
    {
     "name": "stderr",
     "output_type": "stream",
     "text": [
      "100%|████████████████████████████████████████████████████████████████████████████████████████████████████| 7/7 [00:01<00:00,  3.92it/s]\n"
     ]
    },
    {
     "name": "stdout",
     "output_type": "stream",
     "text": [
      "Epoch: 013, Loss: 0.1017, Val loss: 0.1046, Val acc: 0.9700\n"
     ]
    },
    {
     "name": "stderr",
     "output_type": "stream",
     "text": [
      "100%|████████████████████████████████████████████████████████████████████████████████████████████████████| 7/7 [00:01<00:00,  4.16it/s]\n"
     ]
    },
    {
     "name": "stdout",
     "output_type": "stream",
     "text": [
      "Epoch: 014, Loss: 0.1113, Val loss: 0.0988, Val acc: 0.9750\n"
     ]
    },
    {
     "name": "stderr",
     "output_type": "stream",
     "text": [
      "100%|████████████████████████████████████████████████████████████████████████████████████████████████████| 7/7 [00:01<00:00,  3.97it/s]\n"
     ]
    },
    {
     "name": "stdout",
     "output_type": "stream",
     "text": [
      "Epoch: 015, Loss: 0.1031, Val loss: 0.0965, Val acc: 0.9750\n"
     ]
    },
    {
     "name": "stderr",
     "output_type": "stream",
     "text": [
      "100%|████████████████████████████████████████████████████████████████████████████████████████████████████| 7/7 [00:01<00:00,  3.82it/s]\n"
     ]
    },
    {
     "name": "stdout",
     "output_type": "stream",
     "text": [
      "Epoch: 016, Loss: 0.0841, Val loss: 0.0947, Val acc: 0.9750\n"
     ]
    },
    {
     "name": "stderr",
     "output_type": "stream",
     "text": [
      "100%|████████████████████████████████████████████████████████████████████████████████████████████████████| 7/7 [00:01<00:00,  4.24it/s]\n"
     ]
    },
    {
     "name": "stdout",
     "output_type": "stream",
     "text": [
      "Epoch: 017, Loss: 0.0823, Val loss: 0.1052, Val acc: 0.9600\n"
     ]
    },
    {
     "name": "stderr",
     "output_type": "stream",
     "text": [
      "100%|████████████████████████████████████████████████████████████████████████████████████████████████████| 7/7 [00:01<00:00,  3.90it/s]\n"
     ]
    },
    {
     "name": "stdout",
     "output_type": "stream",
     "text": [
      "Epoch: 018, Loss: 0.0931, Val loss: 0.0998, Val acc: 0.9750\n"
     ]
    },
    {
     "name": "stderr",
     "output_type": "stream",
     "text": [
      "100%|████████████████████████████████████████████████████████████████████████████████████████████████████| 7/7 [00:01<00:00,  3.92it/s]\n"
     ]
    },
    {
     "name": "stdout",
     "output_type": "stream",
     "text": [
      "Epoch: 019, Loss: 0.0824, Val loss: 0.0903, Val acc: 0.9750\n",
      "Testing performance:  {'loss': 0.06249335780739784, 'acc': 0.99}\n"
     ]
    }
   ],
   "source": [
    "dev = torch.device(\"cuda:1\")\n",
    "data_dir = './data/AIDS'\n",
    "dataset_path = os.path.join(data_dir, 'dataset.pt')\n",
    "\n",
    "# Load dataset.\n",
    "if not os.path.exists(dataset_path):\n",
    "    dataset = AsGraphPredDataset(\n",
    "        dgl.data.TUDataset('AIDS', raw_dir='./data/'),\n",
    "        split_ratio=(0.8, 0.1, 0.1),\n",
    "    )\n",
    "\n",
    "    # Laplacian positional encoding.\n",
    "    indices = torch.cat([dataset.train_idx, dataset.val_idx, dataset.test_idx])\n",
    "    for idx in tqdm(indices, desc=\"Computing Laplacian PE\"):\n",
    "        g, _ = dataset[idx]\n",
    "        g.ndata[\"PE\"] = dgl.laplacian_pe(g, k=hparams['pos_enc_size'], padding=True)\n",
    "\n",
    "    torch.save(dataset, dataset_path)\n",
    "else:\n",
    "    dataset = torch.load(dataset_path)\n",
    "\n",
    "# Create model.\n",
    "out_size = dataset.num_tasks\n",
    "model = GTModelFeatDense(out_size=out_size, pos_enc_size=hparams['pos_enc_size']).to(dev)\n",
    "\n",
    "# Start training.\n",
    "train(model, dataset, dev)"
   ],
   "metadata": {
    "collapsed": false,
    "pycharm": {
     "name": "#%%\n"
    }
   }
  }
 ],
 "metadata": {
  "kernelspec": {
   "display_name": "Python 3",
   "language": "python",
   "name": "python3"
  },
  "language_info": {
   "codemirror_mode": {
    "name": "ipython",
    "version": 2
   },
   "file_extension": ".py",
   "mimetype": "text/x-python",
   "name": "python",
   "nbconvert_exporter": "python",
   "pygments_lexer": "ipython2",
   "version": "2.7.6"
  }
 },
 "nbformat": 4,
 "nbformat_minor": 0
}